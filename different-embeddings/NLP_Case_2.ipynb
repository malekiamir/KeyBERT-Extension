{
  "cells": [
    {
      "cell_type": "code",
      "execution_count": null,
      "metadata": {
        "id": "fIq4ZUw7Higi"
      },
      "outputs": [],
      "source": [
        "!pip install keybert\n",
        "!pip install keybert[flair]\n",
        "!pip install keybert[gensim]\n",
        "!pip install keybert[spacy]\n",
        "!pip install keybert[use]\n",
        "!pip install keybert sentence-transformers flair spacy gensim tensorflow-hub transformers\n",
        "!python -m spacy download en_core_web_md\n",
        "!pip install sklearn rouge_score\n",
        "!pip install datasets\n",
        "!pip install datasets\n",
        "!pip install rouge_score\n"
      ]
    },
    {
      "cell_type": "code",
      "execution_count": null,
      "metadata": {
        "id": "PHNokQNcHrN-"
      },
      "outputs": [],
      "source": [
        "from keybert import KeyBERT\n",
        "from sentence_transformers import SentenceTransformer\n",
        "from flair.embeddings import TransformerDocumentEmbeddings\n",
        "import spacy\n",
        "import gensim.downloader as api\n",
        "import tensorflow_hub as hub\n",
        "import flair\n",
        "import numpy as np\n",
        "import torch\n",
        "from transformers import AutoModelForSeq2SeqLM, AutoModel, AutoTokenizer, T5ForConditionalGeneration, BartForConditionalGeneration\n",
        "from datasets import load_dataset\n",
        "from rouge_score import rouge_scorer\n",
        "from sklearn.metrics.pairwise import cosine_similarity\n"
      ]
    },
    {
      "cell_type": "code",
      "execution_count": null,
      "metadata": {
        "id": "tHvtIaeM-hYK"
      },
      "outputs": [],
      "source": [
        "#load Inspec dataset with trust_remote_code=True\n",
        "ds = load_dataset(\"taln-ls2n/inspec\", trust_remote_code=True)"
      ]
    },
    {
      "cell_type": "code",
      "execution_count": null,
      "metadata": {
        "id": "JgO85ik5-CKZ"
      },
      "outputs": [],
      "source": [
        "texts = [sample[\"abstract\"] for sample in ds[\"train\"]]  #using 'abstract' as the main text\n",
        "ground_truth_keywords = [sample[\"keyphrases\"] for sample in ds[\"train\"]]  #'keyphrases' contains ground truth\n"
      ]
    },
    {
      "cell_type": "code",
      "execution_count": null,
      "metadata": {
        "id": "TdB6CFsOxQWK"
      },
      "outputs": [],
      "source": [
        "#load embedding-based models\n",
        "embedding_models = {\n",
        "    \"sentence-transformers\": SentenceTransformer(\"all-MiniLM-L6-v2\"),\n",
        "    \"flair\": TransformerDocumentEmbeddings(\"bert-base-uncased\"),\n",
        "    \"roberta\": TransformerDocumentEmbeddings(\"roberta-base\"),\n",
        "    \"spacy\": spacy.load(\"en_core_web_md\"),\n",
        "    \"gensim\": api.load(\"glove-wiki-gigaword-100\"),  # GloVe 100D\n",
        "    \"use\": hub.load(\"https://tfhub.dev/google/universal-sentence-encoder/4\"),\n",
        "}\n",
        "\n",
        "#categorize models correctly\n",
        "bert_models = {\n",
        "    \"bert-keyword-extractor\": \"yanekyuk/bert-keyword-extractor\"\n",
        "}\n",
        "\n",
        "generative_models = {\n",
        "    \"vlt5-base-keywords\": \"Voicelab/vlt5-base-keywords\",\n",
        "    \"t5\": \"t5-small\",\n",
        "    \"bart\": \"facebook/bart-large-cnn\",\n",
        "}\n",
        "\n",
        "#load tokenizers\n",
        "tokenizers = {name: AutoTokenizer.from_pretrained(model) for name, model in {**bert_models, **generative_models}.items()}\n",
        "\n",
        "#load models properly\n",
        "embedding_models.update({name: AutoModel.from_pretrained(model) for name, model in bert_models.items()})\n",
        "embedding_models.update({name: AutoModelForSeq2SeqLM.from_pretrained(model) for name, model in generative_models.items()})\n"
      ]
    },
    {
      "cell_type": "code",
      "execution_count": null,
      "metadata": {
        "id": "uR_9Sf5D-9tl"
      },
      "outputs": [],
      "source": [
        "#function to extract embeddings\n",
        "def get_embedding(model_name, text):\n",
        "    #Sentence Transformers\n",
        "    if model_name == \"sentence-transformers\":\n",
        "        return embedding_models[model_name].encode([text])[0]\n",
        "\n",
        "    #Flair or RoBERTa-based models\n",
        "    elif model_name in [\"flair\", \"roberta\"]:\n",
        "        sentence = flair.data.Sentence(text)\n",
        "        embedding_models[model_name].embed(sentence)\n",
        "        return sentence.embedding.cpu().detach().numpy()\n",
        "\n",
        "    #spaCy embeddings\n",
        "    elif model_name == \"spacy\":\n",
        "        return embedding_models[model_name](text).vector\n",
        "\n",
        "    #Gensim embeddings\n",
        "    elif model_name == \"gensim\":\n",
        "        words = text.lower().split()\n",
        "        vectors = [embedding_models[model_name].get_vector(w) for w in words if w in embedding_models[model_name]]\n",
        "        return np.mean(vectors, axis=0) if vectors else np.zeros(100)\n",
        "\n",
        "    #Universal Sentence Encoder (USE)\n",
        "    elif model_name == \"use\":\n",
        "        return embedding_models[model_name]([text])[0].numpy()\n",
        "\n",
        "    #BERT-based models\n",
        "    elif model_name in [\"bert-keyword-extractor\", \"vlt5-base-keywords\"]:\n",
        "        tokenizer = tokenizers[model_name]\n",
        "        inputs = tokenizer(text, return_tensors=\"pt\", truncation=True, padding=True)\n",
        "        outputs = embedding_models[model_name](**inputs)\n",
        "        return outputs.last_hidden_state.mean(dim=1).squeeze().detach().numpy()\n",
        "\n",
        "    #Generative models (T5, BART)\n",
        "    elif model_name in [\"t5\", \"bart\"]:\n",
        "        tokenizer = tokenizers[model_name]\n",
        "        inputs = tokenizer(text, return_tensors=\"pt\", truncation=True, padding=True)\n",
        "        model_output = embedding_models[model_name](**inputs)\n",
        "        return model_output.last_hidden_state.mean(dim=1).squeeze().detach().numpy()\n",
        "\n",
        "    else:\n",
        "        raise ValueError(f\"Unsupported model: {model_name}\")\n"
      ]
    },
    {
      "cell_type": "code",
      "execution_count": null,
      "metadata": {
        "id": "BwSvRnUl_QL3"
      },
      "outputs": [],
      "source": [
        "#run KeyBERT extraction for embedding models\n",
        "results = {}\n",
        "\n",
        "#define KeyBERT parameters\n",
        "keybert_params = {\n",
        "      \"keyphrase_ngram_range\": (1, 2),\n",
        "      \"top_n\": 10,\n",
        "      \"stop_words\": None,\n",
        "      \"use_mmr\": True,\n",
        "      \"diversity\": 0.7\n",
        "}\n",
        "\n",
        "\n",
        "for model_name, model in embedding_models.items():\n",
        "    print(f\"Testing model: {model_name}\")\n",
        "\n",
        "    #skip generative models here\n",
        "    if model_name in generative_models:\n",
        "        print(f\"Skipping {model_name}, as it requires text generation.\")\n",
        "        continue\n",
        "\n",
        "    kw_model = KeyBERT(model=model)\n",
        "\n",
        "    extracted_keywords = [\n",
        "        [kw[0].lower() for kw in kw_model.extract_keywords(text, **keybert_params)]\n",
        "        for text in texts\n",
        "    ]\n",
        "\n",
        "    results[model_name] = extracted_keywords"
      ]
    },
    {
      "cell_type": "code",
      "execution_count": null,
      "metadata": {
        "id": "jt5sHBxl_Fne"
      },
      "outputs": [],
      "source": [
        "#function for generative keyword extraction\n",
        "def generate_keywords_with_model(model_name, text):\n",
        "    tokenizer = tokenizers[model_name]\n",
        "    model = embedding_models[model_name]\n",
        "\n",
        "    inputs = tokenizer(text, return_tensors=\"pt\", truncation=True, padding=True)\n",
        "\n",
        "    #define generation parameters\n",
        "    generation_params = {\n",
        "        \"max_length\": 60,\n",
        "        \"num_beams\": 5,\n",
        "        \"temperature\": 1.5,\n",
        "        \"top_k\": 100,\n",
        "        \"top_p\": 0.95,\n",
        "        \"repetition_penalty\": 1.1\n",
        "}\n",
        "\n",
        "\n",
        "    with torch.no_grad():\n",
        "        outputs = model.generate(**inputs, **generation_params)\n",
        "\n",
        "    return tokenizer.decode(outputs[0], skip_special_tokens=True).lower().split()"
      ]
    },
    {
      "cell_type": "code",
      "execution_count": null,
      "metadata": {
        "id": "Q3iJWZXF_UeG"
      },
      "outputs": [],
      "source": [
        "#run keyword generation for generative models\n",
        "for model_name in generative_models.keys():\n",
        "    print(f\"Generating keywords with {model_name}...\")\n",
        "    extracted_keywords = [generate_keywords_with_model(model_name, text) for text in texts]\n",
        "    results[model_name] = extracted_keywords"
      ]
    },
    {
      "cell_type": "code",
      "execution_count": null,
      "metadata": {
        "id": "Vq0Cn_Yj1yac"
      },
      "outputs": [],
      "source": [
        "#initialize ROUGE scorer\n",
        "scorer = rouge_scorer.RougeScorer([\"rouge1\", \"rouge2\", \"rougeL\"], use_stemmer=True)\n",
        "\n",
        "#store ROUGE results\n",
        "rouge_results = {}\n",
        "\n",
        "#compute ROUGE scores for each model\n",
        "for model_name, extracted in results.items():\n",
        "    print(f\"Calculating ROUGE for {model_name}...\")\n",
        "\n",
        "    rouge_scores = {\"rouge1\": [], \"rouge2\": [], \"rougeL\": []}\n",
        "\n",
        "    for gt, pred in zip(ground_truth_keywords, extracted):\n",
        "        #convert list of keywords to a single string\n",
        "        gt_text = \" \".join(gt)\n",
        "        pred_text = \" \".join(pred)\n",
        "\n",
        "        #compute ROUGE scores\n",
        "        scores = scorer.score(gt_text, pred_text)\n",
        "\n",
        "        #store results\n",
        "        rouge_scores[\"rouge1\"].append(scores[\"rouge1\"].fmeasure)\n",
        "        rouge_scores[\"rouge2\"].append(scores[\"rouge2\"].fmeasure)\n",
        "        rouge_scores[\"rougeL\"].append(scores[\"rougeL\"].fmeasure)\n",
        "\n",
        "    #compute average scores\n",
        "    rouge_results[model_name] = {metric: np.mean(values) for metric, values in rouge_scores.items()}\n",
        "\n",
        "#print results\n",
        "for model, scores in rouge_results.items():\n",
        "    print(f\"\\nROUGE Scores for {model}:\")\n",
        "    for metric, score in scores.items():\n",
        "        print(f\"  {metric}: {score:.4f}\")\n"
      ]
    },
    {
      "cell_type": "code",
      "execution_count": null,
      "metadata": {
        "id": "cYvpO5GJ2JZS"
      },
      "outputs": [],
      "source": [
        "#store cosine similarity results\n",
        "cosine_similarities = {}\n",
        "\n",
        "for model_name, extracted in results.items():\n",
        "    print(f\"Calculating Cosine Similarity for {model_name}...\")\n",
        "\n",
        "    cos_sim = []\n",
        "\n",
        "    for gt, pred in zip(ground_truth_keywords, extracted):\n",
        "        if not gt or not pred:\n",
        "            continue\n",
        "\n",
        "        #get embeddings\n",
        "        gt_embedding = get_embedding(\"sentence-transformers\", \" \".join(gt))\n",
        "        pred_embedding = get_embedding(\"sentence-transformers\", \" \".join(pred))\n",
        "\n",
        "        #compute cosine similarity\n",
        "        similarity = cosine_similarity([gt_embedding], [pred_embedding])[0][0]\n",
        "        cos_sim.append(similarity)\n",
        "\n",
        "    #compute average similarity\n",
        "    cosine_similarities[model_name] = np.mean(cos_sim) if cos_sim else 0\n",
        "\n",
        "#print results\n",
        "for model, sim in cosine_similarities.items():\n",
        "    print(f\"\\nCosine Similarity for {model}: {sim:.4f}\")\n"
      ]
    }
  ],
  "metadata": {
    "colab": {
      "provenance": []
    },
    "kernelspec": {
      "display_name": "Python 3",
      "name": "python3"
    },
    "language_info": {
      "codemirror_mode": {
        "name": "ipython",
        "version": 3
      },
      "file_extension": ".py",
      "mimetype": "text/x-python",
      "name": "python",
      "nbconvert_exporter": "python",
      "pygments_lexer": "ipython3",
      "version": "3.10.11"
    }
  },
  "nbformat": 4,
  "nbformat_minor": 0
}